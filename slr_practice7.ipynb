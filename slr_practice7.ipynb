{
 "cells": [
  {
   "cell_type": "markdown",
   "id": "2f4b382a-d776-441a-a731-638797710731",
   "metadata": {},
   "source": [
    "# Basit Doğrusal Regresyon - Model Tuning - Model Doğrulama"
   ]
  },
  {
   "cell_type": "markdown",
   "id": "9e889724-642f-4e08-b4e2-10a11281e90a",
   "metadata": {},
   "source": [
    "### Bir mağaza sahibi, mağazasındaki ürünlerin satışlarının hava durumu koşullarına bağlı olup olmadığını anlamak istiyor. Mağaza sahibi, 30 gün boyunca günlük satışları ve o günkü hava durumu (sıcaklık) verilerini topladı. Şimdi, bu verileri kullanarak, mağazasındaki ürünlerin satışlarını tahmin etmek için bir doğrusal regresyon modeli oluşturmak istiyor."
   ]
  },
  {
   "cell_type": "code",
   "execution_count": 330,
   "id": "348fbef5-c457-44e6-9d2f-4d6f0e7d55c9",
   "metadata": {},
   "outputs": [],
   "source": [
    "import numpy as np\n",
    "import pandas as pd\n",
    "import seaborn as sns\n",
    "from sklearn.linear_model import LinearRegression\n",
    "from sklearn.model_selection import train_test_split, GridSearchCV, cross_val_score\n",
    "from sklearn.metrics import r2_score, mean_squared_error"
   ]
  },
  {
   "cell_type": "code",
   "execution_count": 315,
   "id": "9b5e838f-abb9-49ef-9bce-c573751c4167",
   "metadata": {},
   "outputs": [
    {
     "data": {
      "text/html": [
       "<div>\n",
       "<style scoped>\n",
       "    .dataframe tbody tr th:only-of-type {\n",
       "        vertical-align: middle;\n",
       "    }\n",
       "\n",
       "    .dataframe tbody tr th {\n",
       "        vertical-align: top;\n",
       "    }\n",
       "\n",
       "    .dataframe thead th {\n",
       "        text-align: right;\n",
       "    }\n",
       "</style>\n",
       "<table border=\"1\" class=\"dataframe\">\n",
       "  <thead>\n",
       "    <tr style=\"text-align: right;\">\n",
       "      <th></th>\n",
       "      <th>temperature</th>\n",
       "      <th>sales</th>\n",
       "    </tr>\n",
       "  </thead>\n",
       "  <tbody>\n",
       "    <tr>\n",
       "      <th>0</th>\n",
       "      <td>27.483571</td>\n",
       "      <td>126.433646</td>\n",
       "    </tr>\n",
       "    <tr>\n",
       "      <th>1</th>\n",
       "      <td>24.308678</td>\n",
       "      <td>141.448817</td>\n",
       "    </tr>\n",
       "    <tr>\n",
       "      <th>2</th>\n",
       "      <td>28.238443</td>\n",
       "      <td>134.580356</td>\n",
       "    </tr>\n",
       "    <tr>\n",
       "      <th>3</th>\n",
       "      <td>32.615149</td>\n",
       "      <td>137.268339</td>\n",
       "    </tr>\n",
       "    <tr>\n",
       "      <th>4</th>\n",
       "      <td>23.829233</td>\n",
       "      <td>129.713149</td>\n",
       "    </tr>\n",
       "  </tbody>\n",
       "</table>\n",
       "</div>"
      ],
      "text/plain": [
       "   temperature       sales\n",
       "0    27.483571  126.433646\n",
       "1    24.308678  141.448817\n",
       "2    28.238443  134.580356\n",
       "3    32.615149  137.268339\n",
       "4    23.829233  129.713149"
      ]
     },
     "execution_count": 315,
     "metadata": {},
     "output_type": "execute_result"
    }
   ],
   "source": [
    "# veri setini oluşturalım.\n",
    "\n",
    "np.random.seed(42) # rastgele değişkenlerin tekrar üretilmesini sağlar.\n",
    "temperature = np.random.normal(25, 5, 30) # Sıcaklık\n",
    "sales = 50 + (temperature * 3) + np.random.normal(0, 10, 30) # satışlar\n",
    "\n",
    "data = pd.DataFrame({'temperature': temperature, 'sales': sales})\n",
    "data.head()"
   ]
  },
  {
   "cell_type": "code",
   "execution_count": 316,
   "id": "491f65af-072b-4b01-b53e-a0a888111d8f",
   "metadata": {},
   "outputs": [
    {
     "data": {
      "image/png": "[encoded data removed]",
      "text/plain": [
       "<Figure size 432x288 with 1 Axes>"
      ]
     },
     "metadata": {
      "needs_background": "light"
     },
     "output_type": "display_data"
    }
   ],
   "source": [
    "# veri setini görselleştirelim.\n",
    "sns.scatterplot(data=data, x='temperature', y='sales');"
   ]
  },
  {
   "cell_type": "code",
   "execution_count": 317,
   "id": "c06a0151-8ab6-4a53-bd9e-1fe026f90129",
   "metadata": {},
   "outputs": [
    {
     "data": {
      "text/html": [
       "<div>\n",
       "<style scoped>\n",
       "    .dataframe tbody tr th:only-of-type {\n",
       "        vertical-align: middle;\n",
       "    }\n",
       "\n",
       "    .dataframe tbody tr th {\n",
       "        vertical-align: top;\n",
       "    }\n",
       "\n",
       "    .dataframe thead th {\n",
       "        text-align: right;\n",
       "    }\n",
       "</style>\n",
       "<table border=\"1\" class=\"dataframe\">\n",
       "  <thead>\n",
       "    <tr style=\"text-align: right;\">\n",
       "      <th></th>\n",
       "      <th>temperature</th>\n",
       "      <th>sales</th>\n",
       "    </tr>\n",
       "  </thead>\n",
       "  <tbody>\n",
       "    <tr>\n",
       "      <th>temperature</th>\n",
       "      <td>1.000000</td>\n",
       "      <td>0.841305</td>\n",
       "    </tr>\n",
       "    <tr>\n",
       "      <th>sales</th>\n",
       "      <td>0.841305</td>\n",
       "      <td>1.000000</td>\n",
       "    </tr>\n",
       "  </tbody>\n",
       "</table>\n",
       "</div>"
      ],
      "text/plain": [
       "             temperature     sales\n",
       "temperature     1.000000  0.841305\n",
       "sales           0.841305  1.000000"
      ]
     },
     "execution_count": 317,
     "metadata": {},
     "output_type": "execute_result"
    }
   ],
   "source": [
    "data.corr()\n",
    "# pozitif yönlü güçlü bir korelasyon var."
   ]
  },
  {
   "cell_type": "code",
   "execution_count": 318,
   "id": "c3cbf6b7-0285-4779-8606-4ee50531b1d0",
   "metadata": {},
   "outputs": [],
   "source": [
    "# bağımlı ve bağımsız değişkenleri oluşturalım.\n",
    "\n",
    "X = data[['temperature']].values.reshape(-1, 1)\n",
    "y = data['sales']"
   ]
  },
  {
   "cell_type": "code",
   "execution_count": 319,
   "id": "7d52932c-6cd0-46ad-974f-be64c6f0422b",
   "metadata": {},
   "outputs": [
    {
     "data": {
      "text/plain": [
       "LinearRegression()"
      ]
     },
     "execution_count": 319,
     "metadata": {},
     "output_type": "execute_result"
    }
   ],
   "source": [
    "# modeli oluşturalım ve eğitelim.\n",
    "\n",
    "model = LinearRegression()\n",
    "model.fit(X, y)"
   ]
  },
  {
   "cell_type": "code",
   "execution_count": 320,
   "id": "4818cf78-37d4-4e8f-939e-4ae231de587d",
   "metadata": {},
   "outputs": [
    {
     "name": "stdout",
     "output_type": "stream",
     "text": [
      "Katsayılar:  [3.20449712]\n",
      "Sabit:  43.8683248161816\n"
     ]
    }
   ],
   "source": [
    "# model katsayılarını ve sabitini görelim.\n",
    "\n",
    "print('Katsayılar: ', model.coef_)\n",
    "print('Sabit: ', model.intercept_)\n",
    "\n",
    "# katsayılar ve sabit terimleri, basit doğrusal regresyon formülasyonundaki terimleri ifade ediyor.\n",
    "# aslında biz matematiksel bir formüldeki eksik değerleri bulmaya çalışıyoruz."
   ]
  },
  {
   "cell_type": "code",
   "execution_count": 321,
   "id": "15ee115e-2190-4c6a-a805-4de90ed36fee",
   "metadata": {},
   "outputs": [],
   "source": [
    "# tahmin\n",
    "y_pred = model.predict(X)"
   ]
  },
  {
   "cell_type": "code",
   "execution_count": 322,
   "id": "9699f100-2087-4e1b-be61-311d81047120",
   "metadata": {},
   "outputs": [
    {
     "name": "stdout",
     "output_type": "stream",
     "text": [
      "R-kare değeri:  0.7077947836737009\n"
     ]
    }
   ],
   "source": [
    "# R-kare değeri\n",
    "r2 = r2_score(y, y_pred)\n",
    "print('R-kare değeri: ', r2)"
   ]
  },
  {
   "cell_type": "markdown",
   "id": "4aee91ca-2171-4b61-914e-3ee9e970a8dd",
   "metadata": {},
   "source": [
    "#### Bu R-kare değeri, modelimizin sıcaklık değişkeni ile satışlar arasındaki ilişkiyi açıklama oranının %82 olduğunu göstermektedir.\n",
    "\n",
    "#### Şimdi, modelimizi daha da geliştirmek için, veri setimizi eğitim ve test setlerine ayırabilir ve eğitim seti üzerinde modelimizi eğitebiliriz."
   ]
  },
  {
   "cell_type": "markdown",
   "id": "13b906c1-757d-4d7d-a773-1f0cdd19cd04",
   "metadata": {},
   "source": [
    "# Model Tuning İşlemi"
   ]
  },
  {
   "cell_type": "code",
   "execution_count": 329,
   "id": "66702858-d758-448c-b916-fd403b84503e",
   "metadata": {},
   "outputs": [
    {
     "name": "stdout",
     "output_type": "stream",
     "text": [
      "0 random_state değeri için R-kare değeri: 0.7619181761691214\n",
      "20 random_state değeri için R-kare değeri: 0.318188592161765\n",
      "42 random_state değeri için R-kare değeri: 0.6640771582152317\n",
      "60 random_state değeri için R-kare değeri: 0.7695161013155506\n",
      "100 random_state değeri için R-kare değeri: 0.8446288291182518\n"
     ]
    }
   ],
   "source": [
    "random_states = [0, 20, 42, 60, 100]\n",
    "\n",
    "for element in random_states:\n",
    "    X_train, X_test, y_train, y_test = train_test_split(X, y, test_size=0.2, random_state=element)\n",
    "    model = LinearRegression()\n",
    "    model.fit(X_train, y_train)\n",
    "    y_pred = model.predict(X_test)\n",
    "    r2 = r2_score(y_test, y_pred)\n",
    "    print(f'{element} random_state değeri için R-kare değeri: {r2}')"
   ]
  },
  {
   "cell_type": "markdown",
   "id": "612adf0c-7a26-49b3-bf01-728fd894561a",
   "metadata": {},
   "source": [
    "#### En iyi performansı random_state=100 parametresinde alıyoruz. Bu yüzden modelimizi bu parametreye göre düzenleyelim."
   ]
  },
  {
   "cell_type": "code",
   "execution_count": 332,
   "id": "8c349ff8-59e0-4ac4-b0e3-570714729cb2",
   "metadata": {},
   "outputs": [
    {
     "name": "stdout",
     "output_type": "stream",
     "text": [
      "R-kare değeri:  0.8446288291182518\n"
     ]
    }
   ],
   "source": [
    "X_train, X_test, y_train, y_test = train_test_split(X, y, test_size=0.2, random_state=100)\n",
    "model = LinearRegression()\n",
    "model.fit(X_train, y_train)\n",
    "y_pred = model.predict(X_test)\n",
    "r2 = r2_score(y_test, y_pred)\n",
    "print('R-kare değeri: ', r2)"
   ]
  },
  {
   "cell_type": "markdown",
   "id": "c7005047-8cfe-4b68-9594-63e5b0d24b9a",
   "metadata": {},
   "source": [
    "# Model Doğrulama İşlemi"
   ]
  },
  {
   "cell_type": "markdown",
   "id": "4f22e35a-8160-4b22-87d4-58291704182e",
   "metadata": {},
   "source": [
    "#### Son olarak, modelimizin performansını daha da doğrulamak için, k-fold çapraz doğrulama yöntemini kullanabiliriz. Bu yöntem, veri setini k parçaya böler, her seferinde bir parçayı test seti olarak kullanır ve kalan parçaları eğitim seti olarak kullanır. Bu işlemi k defa tekrarlar ve her bir tekrar için modelin performansını ölçer."
   ]
  },
  {
   "cell_type": "code",
   "execution_count": 333,
   "id": "6e8ad4ee-fd4d-46cc-998b-d38e57d9dad9",
   "metadata": {},
   "outputs": [
    {
     "name": "stdout",
     "output_type": "stream",
     "text": [
      "CV R-kare değerleri:  [-0.24486717  0.47560062  0.79138073  0.81359899  0.37753051]\n",
      "CV R-kare ortalaması:  0.4426487392795587\n"
     ]
    }
   ],
   "source": [
    "# 5-fold çapraz doğrulama kullanarak modelin performansını ölçelim.\n",
    "cv_scores = cross_val_score(model, X, y, cv=5)\n",
    "\n",
    "print('CV R-kare değerleri: ', cv_scores)\n",
    "print('CV R-kare ortalaması: ', np.mean(cv_scores))"
   ]
  },
  {
   "cell_type": "markdown",
   "id": "e3397c23-975a-4981-9b5e-c1c89c729af2",
   "metadata": {},
   "source": [
    "#### Bu sonuçlar, modelimizin çapraz doğrulama ile doğrulanmış bir şekilde sıcaklık değişkeni ile satışlar arasındaki ilişkiyi açıklıyor. Modelimizin ortalama R-kare değeri %44 'dür ve k-fold çapraz doğrulama ile test edildiğinde, modelimizin genel olarak ortalamanın altında performans sergilediği söylenebilir. Bu oranı yükseltebilmek için veri setine yeni bağımsız değişkenler eklenebilir. "
   ]
  }
 ],
 "metadata": {
  "kernelspec": {
   "display_name": "Python 3 (ipykernel)",
   "language": "python",
   "name": "python3"
  },
  "language_info": {
   "codemirror_mode": {
    "name": "ipython",
    "version": 3
   },
   "file_extension": ".py",
   "mimetype": "text/x-python",
   "name": "python",
   "nbconvert_exporter": "python",
   "pygments_lexer": "ipython3",
   "version": "3.9.12"
  }
 },
 "nbformat": 4,
 "nbformat_minor": 5
}
